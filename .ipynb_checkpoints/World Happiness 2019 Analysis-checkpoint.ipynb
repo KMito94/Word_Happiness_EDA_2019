{
 "cells": [
  {
   "cell_type": "markdown",
   "id": "7d59537d",
   "metadata": {},
   "source": [
    "## Analysis of Happines By Country In 2019 "
   ]
  },
  {
   "cell_type": "code",
   "execution_count": 1,
   "id": "7301a200",
   "metadata": {},
   "outputs": [],
   "source": [
    "import pandas as pd \n",
    "\n",
    "import numpy as np \n",
    "\n",
    "import seaborn as sns \n",
    "\n",
    "import matplotlib.pyplot as plt\n",
    "\n",
    "import pingouin as pg\n",
    "\n",
    "%matplotlib inline "
   ]
  },
  {
   "cell_type": "code",
   "execution_count": 2,
   "id": "3e7e8a43",
   "metadata": {},
   "outputs": [],
   "source": [
    "df = pd.read_csv('world-happiness-report-2019 (1).csv')"
   ]
  },
  {
   "cell_type": "code",
   "execution_count": 3,
   "id": "6ea2be3c",
   "metadata": {},
   "outputs": [
    {
     "data": {
      "text/html": [
       "<div>\n",
       "<style scoped>\n",
       "    .dataframe tbody tr th:only-of-type {\n",
       "        vertical-align: middle;\n",
       "    }\n",
       "\n",
       "    .dataframe tbody tr th {\n",
       "        vertical-align: top;\n",
       "    }\n",
       "\n",
       "    .dataframe thead th {\n",
       "        text-align: right;\n",
       "    }\n",
       "</style>\n",
       "<table border=\"1\" class=\"dataframe\">\n",
       "  <thead>\n",
       "    <tr style=\"text-align: right;\">\n",
       "      <th></th>\n",
       "      <th>Country (region)</th>\n",
       "      <th>Ladder</th>\n",
       "      <th>SD of Ladder</th>\n",
       "      <th>Positive affect</th>\n",
       "      <th>Negative affect</th>\n",
       "      <th>Social support</th>\n",
       "      <th>Freedom</th>\n",
       "      <th>Corruption</th>\n",
       "      <th>Generosity</th>\n",
       "      <th>Log of GDP\\nper capita</th>\n",
       "      <th>Healthy life\\nexpectancy</th>\n",
       "    </tr>\n",
       "  </thead>\n",
       "  <tbody>\n",
       "    <tr>\n",
       "      <th>0</th>\n",
       "      <td>Finland</td>\n",
       "      <td>1</td>\n",
       "      <td>4</td>\n",
       "      <td>41.0</td>\n",
       "      <td>10.0</td>\n",
       "      <td>2.0</td>\n",
       "      <td>5.0</td>\n",
       "      <td>4.0</td>\n",
       "      <td>47.0</td>\n",
       "      <td>22.0</td>\n",
       "      <td>27.0</td>\n",
       "    </tr>\n",
       "    <tr>\n",
       "      <th>1</th>\n",
       "      <td>Denmark</td>\n",
       "      <td>2</td>\n",
       "      <td>13</td>\n",
       "      <td>24.0</td>\n",
       "      <td>26.0</td>\n",
       "      <td>4.0</td>\n",
       "      <td>6.0</td>\n",
       "      <td>3.0</td>\n",
       "      <td>22.0</td>\n",
       "      <td>14.0</td>\n",
       "      <td>23.0</td>\n",
       "    </tr>\n",
       "    <tr>\n",
       "      <th>2</th>\n",
       "      <td>Norway</td>\n",
       "      <td>3</td>\n",
       "      <td>8</td>\n",
       "      <td>16.0</td>\n",
       "      <td>29.0</td>\n",
       "      <td>3.0</td>\n",
       "      <td>3.0</td>\n",
       "      <td>8.0</td>\n",
       "      <td>11.0</td>\n",
       "      <td>7.0</td>\n",
       "      <td>12.0</td>\n",
       "    </tr>\n",
       "    <tr>\n",
       "      <th>3</th>\n",
       "      <td>Iceland</td>\n",
       "      <td>4</td>\n",
       "      <td>9</td>\n",
       "      <td>3.0</td>\n",
       "      <td>3.0</td>\n",
       "      <td>1.0</td>\n",
       "      <td>7.0</td>\n",
       "      <td>45.0</td>\n",
       "      <td>3.0</td>\n",
       "      <td>15.0</td>\n",
       "      <td>13.0</td>\n",
       "    </tr>\n",
       "    <tr>\n",
       "      <th>4</th>\n",
       "      <td>Netherlands</td>\n",
       "      <td>5</td>\n",
       "      <td>1</td>\n",
       "      <td>12.0</td>\n",
       "      <td>25.0</td>\n",
       "      <td>15.0</td>\n",
       "      <td>19.0</td>\n",
       "      <td>12.0</td>\n",
       "      <td>7.0</td>\n",
       "      <td>12.0</td>\n",
       "      <td>18.0</td>\n",
       "    </tr>\n",
       "  </tbody>\n",
       "</table>\n",
       "</div>"
      ],
      "text/plain": [
       "  Country (region)  Ladder  SD of Ladder  Positive affect  Negative affect  \\\n",
       "0          Finland       1             4             41.0             10.0   \n",
       "1          Denmark       2            13             24.0             26.0   \n",
       "2           Norway       3             8             16.0             29.0   \n",
       "3          Iceland       4             9              3.0              3.0   \n",
       "4      Netherlands       5             1             12.0             25.0   \n",
       "\n",
       "   Social support  Freedom  Corruption  Generosity  Log of GDP\\nper capita  \\\n",
       "0             2.0      5.0         4.0        47.0                    22.0   \n",
       "1             4.0      6.0         3.0        22.0                    14.0   \n",
       "2             3.0      3.0         8.0        11.0                     7.0   \n",
       "3             1.0      7.0        45.0         3.0                    15.0   \n",
       "4            15.0     19.0        12.0         7.0                    12.0   \n",
       "\n",
       "   Healthy life\\nexpectancy  \n",
       "0                      27.0  \n",
       "1                      23.0  \n",
       "2                      12.0  \n",
       "3                      13.0  \n",
       "4                      18.0  "
      ]
     },
     "execution_count": 3,
     "metadata": {},
     "output_type": "execute_result"
    }
   ],
   "source": [
    "df.head()"
   ]
  },
  {
   "cell_type": "code",
   "execution_count": 4,
   "id": "5a374948",
   "metadata": {},
   "outputs": [
    {
     "name": "stdout",
     "output_type": "stream",
     "text": [
      "<class 'pandas.core.frame.DataFrame'>\n",
      "RangeIndex: 156 entries, 0 to 155\n",
      "Data columns (total 11 columns):\n",
      " #   Column                   Non-Null Count  Dtype  \n",
      "---  ------                   --------------  -----  \n",
      " 0   Country (region)         156 non-null    object \n",
      " 1   Ladder                   156 non-null    int64  \n",
      " 2   SD of Ladder             156 non-null    int64  \n",
      " 3   Positive affect          155 non-null    float64\n",
      " 4   Negative affect          155 non-null    float64\n",
      " 5   Social support           155 non-null    float64\n",
      " 6   Freedom                  155 non-null    float64\n",
      " 7   Corruption               148 non-null    float64\n",
      " 8   Generosity               155 non-null    float64\n",
      " 9   Log of GDP\n",
      "per capita    152 non-null    float64\n",
      " 10  Healthy life\n",
      "expectancy  150 non-null    float64\n",
      "dtypes: float64(8), int64(2), object(1)\n",
      "memory usage: 13.5+ KB\n"
     ]
    }
   ],
   "source": [
    "df.info()"
   ]
  },
  {
   "cell_type": "code",
   "execution_count": 5,
   "id": "efabaefe",
   "metadata": {},
   "outputs": [
    {
     "data": {
      "text/plain": [
       "Country (region)            0\n",
       "Ladder                      0\n",
       "SD of Ladder                0\n",
       "Positive affect             1\n",
       "Negative affect             1\n",
       "Social support              1\n",
       "Freedom                     1\n",
       "Corruption                  8\n",
       "Generosity                  1\n",
       "Log of GDP\\nper capita      4\n",
       "Healthy life\\nexpectancy    6\n",
       "dtype: int64"
      ]
     },
     "execution_count": 5,
     "metadata": {},
     "output_type": "execute_result"
    }
   ],
   "source": [
    "df.isnull().sum()"
   ]
  },
  {
   "cell_type": "code",
   "execution_count": 6,
   "id": "132b2083",
   "metadata": {},
   "outputs": [],
   "source": [
    "# We have some null values that we must deal with \n"
   ]
  },
  {
   "cell_type": "code",
   "execution_count": 7,
   "id": "4c269d1e",
   "metadata": {},
   "outputs": [],
   "source": [
    "# we can use the forward fill and  mean to deal with null values in the columns "
   ]
  },
  {
   "cell_type": "code",
   "execution_count": 8,
   "id": "fd2a7774",
   "metadata": {},
   "outputs": [],
   "source": [
    "df['Positive affect'].fillna(df['Positive affect'].mean(),inplace =True)"
   ]
  },
  {
   "cell_type": "code",
   "execution_count": 9,
   "id": "21e5f53a",
   "metadata": {},
   "outputs": [],
   "source": [
    "df['Negative affect'].fillna(df['Negative affect'].mean(),inplace =True)"
   ]
  },
  {
   "cell_type": "code",
   "execution_count": 10,
   "id": "e28b244d",
   "metadata": {},
   "outputs": [],
   "source": [
    "df['Social support'].fillna(df['Social support'].mean(),inplace =True)"
   ]
  },
  {
   "cell_type": "code",
   "execution_count": 11,
   "id": "c07e8bb5",
   "metadata": {},
   "outputs": [],
   "source": [
    "df['Corruption'].fillna(df['Corruption'].mean(),inplace =True)"
   ]
  },
  {
   "cell_type": "code",
   "execution_count": 12,
   "id": "82ad2f3a",
   "metadata": {},
   "outputs": [],
   "source": [
    "df['Generosity'].fillna(df['Generosity'].mean(),inplace =True)"
   ]
  },
  {
   "cell_type": "code",
   "execution_count": 13,
   "id": "d3f0adb2",
   "metadata": {},
   "outputs": [],
   "source": [
    "df['Log of GDP\\nper capita'].fillna(df['Log of GDP\\nper capita'].mean(),inplace =True)"
   ]
  },
  {
   "cell_type": "code",
   "execution_count": 14,
   "id": "c2e7779b",
   "metadata": {},
   "outputs": [],
   "source": [
    "df['Healthy life\\nexpectancy'].fillna(df['Healthy life\\nexpectancy'].mean(),inplace =True)"
   ]
  },
  {
   "cell_type": "code",
   "execution_count": 15,
   "id": "b9aff655",
   "metadata": {},
   "outputs": [],
   "source": [
    "df['Freedom'].fillna(df['Freedom'].mean(),inplace =True)"
   ]
  },
  {
   "cell_type": "code",
   "execution_count": 16,
   "id": "478801ac",
   "metadata": {},
   "outputs": [
    {
     "data": {
      "text/plain": [
       "Country (region)            0\n",
       "Ladder                      0\n",
       "SD of Ladder                0\n",
       "Positive affect             0\n",
       "Negative affect             0\n",
       "Social support              0\n",
       "Freedom                     0\n",
       "Corruption                  0\n",
       "Generosity                  0\n",
       "Log of GDP\\nper capita      0\n",
       "Healthy life\\nexpectancy    0\n",
       "dtype: int64"
      ]
     },
     "execution_count": 16,
     "metadata": {},
     "output_type": "execute_result"
    }
   ],
   "source": [
    "df.isna().sum()"
   ]
  },
  {
   "cell_type": "code",
   "execution_count": 17,
   "id": "2022228c",
   "metadata": {},
   "outputs": [],
   "source": [
    "# We have delt with all the null values in the data set "
   ]
  },
  {
   "cell_type": "code",
   "execution_count": 18,
   "id": "b8c4fa18",
   "metadata": {},
   "outputs": [
    {
     "data": {
      "text/html": [
       "<div>\n",
       "<style scoped>\n",
       "    .dataframe tbody tr th:only-of-type {\n",
       "        vertical-align: middle;\n",
       "    }\n",
       "\n",
       "    .dataframe tbody tr th {\n",
       "        vertical-align: top;\n",
       "    }\n",
       "\n",
       "    .dataframe thead th {\n",
       "        text-align: right;\n",
       "    }\n",
       "</style>\n",
       "<table border=\"1\" class=\"dataframe\">\n",
       "  <thead>\n",
       "    <tr style=\"text-align: right;\">\n",
       "      <th></th>\n",
       "      <th>Ladder</th>\n",
       "      <th>SD of Ladder</th>\n",
       "      <th>Positive affect</th>\n",
       "      <th>Negative affect</th>\n",
       "      <th>Social support</th>\n",
       "      <th>Freedom</th>\n",
       "      <th>Corruption</th>\n",
       "      <th>Generosity</th>\n",
       "      <th>Log of GDP\\nper capita</th>\n",
       "      <th>Healthy life\\nexpectancy</th>\n",
       "    </tr>\n",
       "  </thead>\n",
       "  <tbody>\n",
       "    <tr>\n",
       "      <th>count</th>\n",
       "      <td>156.000000</td>\n",
       "      <td>156.000000</td>\n",
       "      <td>156.000000</td>\n",
       "      <td>156.000000</td>\n",
       "      <td>156.000000</td>\n",
       "      <td>156.000000</td>\n",
       "      <td>156.000000</td>\n",
       "      <td>156.000000</td>\n",
       "      <td>156.000000</td>\n",
       "      <td>156.000000</td>\n",
       "    </tr>\n",
       "    <tr>\n",
       "      <th>mean</th>\n",
       "      <td>78.500000</td>\n",
       "      <td>78.500000</td>\n",
       "      <td>78.000000</td>\n",
       "      <td>78.000000</td>\n",
       "      <td>78.000000</td>\n",
       "      <td>78.000000</td>\n",
       "      <td>74.500000</td>\n",
       "      <td>78.000000</td>\n",
       "      <td>76.500000</td>\n",
       "      <td>75.500000</td>\n",
       "    </tr>\n",
       "    <tr>\n",
       "      <th>std</th>\n",
       "      <td>45.177428</td>\n",
       "      <td>45.177428</td>\n",
       "      <td>44.743715</td>\n",
       "      <td>44.743715</td>\n",
       "      <td>44.743715</td>\n",
       "      <td>44.743715</td>\n",
       "      <td>41.747088</td>\n",
       "      <td>44.743715</td>\n",
       "      <td>43.450973</td>\n",
       "      <td>42.596191</td>\n",
       "    </tr>\n",
       "    <tr>\n",
       "      <th>min</th>\n",
       "      <td>1.000000</td>\n",
       "      <td>1.000000</td>\n",
       "      <td>1.000000</td>\n",
       "      <td>1.000000</td>\n",
       "      <td>1.000000</td>\n",
       "      <td>1.000000</td>\n",
       "      <td>1.000000</td>\n",
       "      <td>1.000000</td>\n",
       "      <td>1.000000</td>\n",
       "      <td>1.000000</td>\n",
       "    </tr>\n",
       "    <tr>\n",
       "      <th>25%</th>\n",
       "      <td>39.750000</td>\n",
       "      <td>39.750000</td>\n",
       "      <td>39.750000</td>\n",
       "      <td>39.750000</td>\n",
       "      <td>39.750000</td>\n",
       "      <td>39.750000</td>\n",
       "      <td>39.750000</td>\n",
       "      <td>39.750000</td>\n",
       "      <td>39.750000</td>\n",
       "      <td>39.750000</td>\n",
       "    </tr>\n",
       "    <tr>\n",
       "      <th>50%</th>\n",
       "      <td>78.500000</td>\n",
       "      <td>78.500000</td>\n",
       "      <td>78.000000</td>\n",
       "      <td>78.000000</td>\n",
       "      <td>78.000000</td>\n",
       "      <td>78.000000</td>\n",
       "      <td>74.500000</td>\n",
       "      <td>78.000000</td>\n",
       "      <td>76.500000</td>\n",
       "      <td>75.500000</td>\n",
       "    </tr>\n",
       "    <tr>\n",
       "      <th>75%</th>\n",
       "      <td>117.250000</td>\n",
       "      <td>117.250000</td>\n",
       "      <td>116.250000</td>\n",
       "      <td>116.250000</td>\n",
       "      <td>116.250000</td>\n",
       "      <td>116.250000</td>\n",
       "      <td>109.250000</td>\n",
       "      <td>116.250000</td>\n",
       "      <td>113.250000</td>\n",
       "      <td>111.250000</td>\n",
       "    </tr>\n",
       "    <tr>\n",
       "      <th>max</th>\n",
       "      <td>156.000000</td>\n",
       "      <td>156.000000</td>\n",
       "      <td>155.000000</td>\n",
       "      <td>155.000000</td>\n",
       "      <td>155.000000</td>\n",
       "      <td>155.000000</td>\n",
       "      <td>148.000000</td>\n",
       "      <td>155.000000</td>\n",
       "      <td>152.000000</td>\n",
       "      <td>150.000000</td>\n",
       "    </tr>\n",
       "  </tbody>\n",
       "</table>\n",
       "</div>"
      ],
      "text/plain": [
       "           Ladder  SD of Ladder  Positive affect  Negative affect  \\\n",
       "count  156.000000    156.000000       156.000000       156.000000   \n",
       "mean    78.500000     78.500000        78.000000        78.000000   \n",
       "std     45.177428     45.177428        44.743715        44.743715   \n",
       "min      1.000000      1.000000         1.000000         1.000000   \n",
       "25%     39.750000     39.750000        39.750000        39.750000   \n",
       "50%     78.500000     78.500000        78.000000        78.000000   \n",
       "75%    117.250000    117.250000       116.250000       116.250000   \n",
       "max    156.000000    156.000000       155.000000       155.000000   \n",
       "\n",
       "       Social support     Freedom  Corruption  Generosity  \\\n",
       "count      156.000000  156.000000  156.000000  156.000000   \n",
       "mean        78.000000   78.000000   74.500000   78.000000   \n",
       "std         44.743715   44.743715   41.747088   44.743715   \n",
       "min          1.000000    1.000000    1.000000    1.000000   \n",
       "25%         39.750000   39.750000   39.750000   39.750000   \n",
       "50%         78.000000   78.000000   74.500000   78.000000   \n",
       "75%        116.250000  116.250000  109.250000  116.250000   \n",
       "max        155.000000  155.000000  148.000000  155.000000   \n",
       "\n",
       "       Log of GDP\\nper capita  Healthy life\\nexpectancy  \n",
       "count              156.000000                156.000000  \n",
       "mean                76.500000                 75.500000  \n",
       "std                 43.450973                 42.596191  \n",
       "min                  1.000000                  1.000000  \n",
       "25%                 39.750000                 39.750000  \n",
       "50%                 76.500000                 75.500000  \n",
       "75%                113.250000                111.250000  \n",
       "max                152.000000                150.000000  "
      ]
     },
     "execution_count": 18,
     "metadata": {},
     "output_type": "execute_result"
    }
   ],
   "source": [
    "df.describe()"
   ]
  },
  {
   "cell_type": "code",
   "execution_count": 19,
   "id": "f3532466",
   "metadata": {},
   "outputs": [],
   "source": [
    "# the ten measures have almost similar statistical characteristics "
   ]
  },
  {
   "cell_type": "markdown",
   "id": "b1165990",
   "metadata": {},
   "source": [
    "# Exploratory Data  Analysis "
   ]
  },
  {
   "cell_type": "code",
   "execution_count": 20,
   "id": "65eca565",
   "metadata": {},
   "outputs": [
    {
     "data": {
      "image/png": "[encoded data removed]",
      "text/plain": [
       "<Figure size 864x720 with 2 Axes>"
      ]
     },
     "metadata": {
      "needs_background": "light"
     },
     "output_type": "display_data"
    }
   ],
   "source": [
    "plt.figure(figsize=(12,10))\n",
    "\n",
    "sns.heatmap(data =df.corr(),annot=True);"
   ]
  },
  {
   "cell_type": "code",
   "execution_count": 21,
   "id": "364808ed",
   "metadata": {},
   "outputs": [],
   "source": [
    "# There is a lot of positive relation in the data and all the factors are positively correlated to each other "
   ]
  },
  {
   "cell_type": "code",
   "execution_count": 22,
   "id": "32c48fa2",
   "metadata": {},
   "outputs": [
    {
     "data": {
      "text/html": [
       "<div>\n",
       "<style scoped>\n",
       "    .dataframe tbody tr th:only-of-type {\n",
       "        vertical-align: middle;\n",
       "    }\n",
       "\n",
       "    .dataframe tbody tr th {\n",
       "        vertical-align: top;\n",
       "    }\n",
       "\n",
       "    .dataframe thead th {\n",
       "        text-align: right;\n",
       "    }\n",
       "</style>\n",
       "<table border=\"1\" class=\"dataframe\">\n",
       "  <thead>\n",
       "    <tr style=\"text-align: right;\">\n",
       "      <th></th>\n",
       "      <th>Country (region)</th>\n",
       "      <th>Ladder</th>\n",
       "      <th>SD of Ladder</th>\n",
       "      <th>Positive affect</th>\n",
       "      <th>Negative affect</th>\n",
       "      <th>Social support</th>\n",
       "      <th>Freedom</th>\n",
       "      <th>Corruption</th>\n",
       "      <th>Generosity</th>\n",
       "      <th>Log of GDP\\nper capita</th>\n",
       "      <th>Healthy life\\nexpectancy</th>\n",
       "    </tr>\n",
       "  </thead>\n",
       "  <tbody>\n",
       "    <tr>\n",
       "      <th>0</th>\n",
       "      <td>Finland</td>\n",
       "      <td>1</td>\n",
       "      <td>4</td>\n",
       "      <td>41.0</td>\n",
       "      <td>10.0</td>\n",
       "      <td>2.0</td>\n",
       "      <td>5.0</td>\n",
       "      <td>4.0</td>\n",
       "      <td>47.0</td>\n",
       "      <td>22.0</td>\n",
       "      <td>27.0</td>\n",
       "    </tr>\n",
       "    <tr>\n",
       "      <th>1</th>\n",
       "      <td>Denmark</td>\n",
       "      <td>2</td>\n",
       "      <td>13</td>\n",
       "      <td>24.0</td>\n",
       "      <td>26.0</td>\n",
       "      <td>4.0</td>\n",
       "      <td>6.0</td>\n",
       "      <td>3.0</td>\n",
       "      <td>22.0</td>\n",
       "      <td>14.0</td>\n",
       "      <td>23.0</td>\n",
       "    </tr>\n",
       "    <tr>\n",
       "      <th>2</th>\n",
       "      <td>Norway</td>\n",
       "      <td>3</td>\n",
       "      <td>8</td>\n",
       "      <td>16.0</td>\n",
       "      <td>29.0</td>\n",
       "      <td>3.0</td>\n",
       "      <td>3.0</td>\n",
       "      <td>8.0</td>\n",
       "      <td>11.0</td>\n",
       "      <td>7.0</td>\n",
       "      <td>12.0</td>\n",
       "    </tr>\n",
       "    <tr>\n",
       "      <th>3</th>\n",
       "      <td>Iceland</td>\n",
       "      <td>4</td>\n",
       "      <td>9</td>\n",
       "      <td>3.0</td>\n",
       "      <td>3.0</td>\n",
       "      <td>1.0</td>\n",
       "      <td>7.0</td>\n",
       "      <td>45.0</td>\n",
       "      <td>3.0</td>\n",
       "      <td>15.0</td>\n",
       "      <td>13.0</td>\n",
       "    </tr>\n",
       "    <tr>\n",
       "      <th>4</th>\n",
       "      <td>Netherlands</td>\n",
       "      <td>5</td>\n",
       "      <td>1</td>\n",
       "      <td>12.0</td>\n",
       "      <td>25.0</td>\n",
       "      <td>15.0</td>\n",
       "      <td>19.0</td>\n",
       "      <td>12.0</td>\n",
       "      <td>7.0</td>\n",
       "      <td>12.0</td>\n",
       "      <td>18.0</td>\n",
       "    </tr>\n",
       "  </tbody>\n",
       "</table>\n",
       "</div>"
      ],
      "text/plain": [
       "  Country (region)  Ladder  SD of Ladder  Positive affect  Negative affect  \\\n",
       "0          Finland       1             4             41.0             10.0   \n",
       "1          Denmark       2            13             24.0             26.0   \n",
       "2           Norway       3             8             16.0             29.0   \n",
       "3          Iceland       4             9              3.0              3.0   \n",
       "4      Netherlands       5             1             12.0             25.0   \n",
       "\n",
       "   Social support  Freedom  Corruption  Generosity  Log of GDP\\nper capita  \\\n",
       "0             2.0      5.0         4.0        47.0                    22.0   \n",
       "1             4.0      6.0         3.0        22.0                    14.0   \n",
       "2             3.0      3.0         8.0        11.0                     7.0   \n",
       "3             1.0      7.0        45.0         3.0                    15.0   \n",
       "4            15.0     19.0        12.0         7.0                    12.0   \n",
       "\n",
       "   Healthy life\\nexpectancy  \n",
       "0                      27.0  \n",
       "1                      23.0  \n",
       "2                      12.0  \n",
       "3                      13.0  \n",
       "4                      18.0  "
      ]
     },
     "execution_count": 22,
     "metadata": {},
     "output_type": "execute_result"
    }
   ],
   "source": [
    "df.head()"
   ]
  },
  {
   "cell_type": "code",
   "execution_count": 23,
   "id": "e21e3a4b",
   "metadata": {},
   "outputs": [],
   "source": [
    "health_by_country = df.groupby('Country (region)')['Healthy life\\nexpectancy'].mean().sort_values(ascending =False)"
   ]
  },
  {
   "cell_type": "code",
   "execution_count": 24,
   "id": "62739117",
   "metadata": {},
   "outputs": [
    {
     "data": {
      "text/plain": [
       "Country (region)\n",
       "Central African Republic    150.0\n",
       "Lesotho                     149.0\n",
       "Chad                        148.0\n",
       "Ivory Coast                 147.0\n",
       "Sierra Leone                146.0\n",
       "Nigeria                     145.0\n",
       "Somalia                     144.0\n",
       "South Sudan                 143.0\n",
       "Mali                        142.0\n",
       "Cameroon                    141.0\n",
       "Name: Healthy life\\nexpectancy, dtype: float64"
      ]
     },
     "execution_count": 24,
     "metadata": {},
     "output_type": "execute_result"
    }
   ],
   "source": [
    "health_by_country.head(10)"
   ]
  },
  {
   "cell_type": "code",
   "execution_count": 25,
   "id": "20a36741",
   "metadata": {},
   "outputs": [],
   "source": [
    "# top ten countries with high score in  expectancy are from africa "
   ]
  },
  {
   "cell_type": "code",
   "execution_count": 26,
   "id": "7d32cca4",
   "metadata": {},
   "outputs": [
    {
     "data": {
      "text/plain": [
       "Country (region)\n",
       "Australia      10.0\n",
       "South Korea     9.0\n",
       "Canada          8.0\n",
       "Italy           7.0\n",
       "Cyprus          6.0\n",
       "France          5.0\n",
       "Switzerland     4.0\n",
       "Spain           3.0\n",
       "Japan           2.0\n",
       "Singapore       1.0\n",
       "Name: Healthy life\\nexpectancy, dtype: float64"
      ]
     },
     "execution_count": 26,
     "metadata": {},
     "output_type": "execute_result"
    }
   ],
   "source": [
    "health_by_country.tail(10)"
   ]
  },
  {
   "cell_type": "code",
   "execution_count": 27,
   "id": "d83d1487",
   "metadata": {},
   "outputs": [],
   "source": [
    "# Analysis the top ranked countried  based on different factors "
   ]
  },
  {
   "cell_type": "code",
   "execution_count": 28,
   "id": "8c961b50",
   "metadata": {},
   "outputs": [
    {
     "data": {
      "text/plain": [
       "Index(['Country (region)', 'Ladder', 'SD of Ladder', 'Positive affect',\n",
       "       'Negative affect', 'Social support', 'Freedom', 'Corruption',\n",
       "       'Generosity', 'Log of GDP\\nper capita', 'Healthy life\\nexpectancy'],\n",
       "      dtype='object')"
      ]
     },
     "execution_count": 28,
     "metadata": {},
     "output_type": "execute_result"
    }
   ],
   "source": [
    "df.columns"
   ]
  },
  {
   "cell_type": "markdown",
   "id": "fdd76d85",
   "metadata": {},
   "source": [
    "# Visualizing how the first five countries compare based on Different Factors "
   ]
  },
  {
   "cell_type": "code",
   "execution_count": 29,
   "id": "ceae68e1",
   "metadata": {},
   "outputs": [
    {
     "data": {
      "image/png": "[encoded data removed]",
      "text/plain": [
       "<Figure size 1728x1296 with 6 Axes>"
      ]
     },
     "metadata": {
      "needs_background": "light"
     },
     "output_type": "display_data"
    }
   ],
   "source": [
    "plt.figure(figsize=(24,18))\n",
    "plt.subplot(2,3,1)\n",
    "sns.barplot(x=df['Country (region)'][:5],y=df['Ladder']);\n",
    "plt.subplot(2,3,2)\n",
    "sns.barplot(x=df['Country (region)'][:5],y=df['SD of Ladder']);\n",
    "plt.subplot(2,3,3)\n",
    "sns.barplot(x=df['Country (region)'][:5],y=df['Positive affect']);\n",
    "plt.subplot(2,3,4)\n",
    "sns.barplot(x=df['Country (region)'][:5],y=df['Negative affect']);\n",
    "plt.subplot(2,3,5)\n",
    "sns.barplot(x=df['Country (region)'][:5],y=df['Social support']);\n",
    "plt.subplot(2,3,6)\n",
    "sns.barplot(x=df['Country (region)'][:5],y=df['Corruption']);"
   ]
  },
  {
   "cell_type": "code",
   "execution_count": 30,
   "id": "d94849f3",
   "metadata": {},
   "outputs": [],
   "source": [
    "# We can determine the five  most unhappy  nations in 2019 "
   ]
  },
  {
   "cell_type": "code",
   "execution_count": 31,
   "id": "10e019b7",
   "metadata": {},
   "outputs": [
    {
     "data": {
      "text/html": [
       "<div>\n",
       "<style scoped>\n",
       "    .dataframe tbody tr th:only-of-type {\n",
       "        vertical-align: middle;\n",
       "    }\n",
       "\n",
       "    .dataframe tbody tr th {\n",
       "        vertical-align: top;\n",
       "    }\n",
       "\n",
       "    .dataframe thead th {\n",
       "        text-align: right;\n",
       "    }\n",
       "</style>\n",
       "<table border=\"1\" class=\"dataframe\">\n",
       "  <thead>\n",
       "    <tr style=\"text-align: right;\">\n",
       "      <th></th>\n",
       "      <th>Country (region)</th>\n",
       "      <th>Ladder</th>\n",
       "    </tr>\n",
       "  </thead>\n",
       "  <tbody>\n",
       "    <tr>\n",
       "      <th>151</th>\n",
       "      <td>Rwanda</td>\n",
       "      <td>152</td>\n",
       "    </tr>\n",
       "    <tr>\n",
       "      <th>152</th>\n",
       "      <td>Tanzania</td>\n",
       "      <td>153</td>\n",
       "    </tr>\n",
       "    <tr>\n",
       "      <th>153</th>\n",
       "      <td>Afghanistan</td>\n",
       "      <td>154</td>\n",
       "    </tr>\n",
       "    <tr>\n",
       "      <th>154</th>\n",
       "      <td>Central African Republic</td>\n",
       "      <td>155</td>\n",
       "    </tr>\n",
       "    <tr>\n",
       "      <th>155</th>\n",
       "      <td>South Sudan</td>\n",
       "      <td>156</td>\n",
       "    </tr>\n",
       "  </tbody>\n",
       "</table>\n",
       "</div>"
      ],
      "text/plain": [
       "             Country (region)  Ladder\n",
       "151                    Rwanda     152\n",
       "152                  Tanzania     153\n",
       "153               Afghanistan     154\n",
       "154  Central African Republic     155\n",
       "155               South Sudan     156"
      ]
     },
     "execution_count": 31,
     "metadata": {},
     "output_type": "execute_result"
    }
   ],
   "source": [
    "df[['Country (region)','Ladder']][-5:]"
   ]
  },
  {
   "cell_type": "code",
   "execution_count": 32,
   "id": "223caea2",
   "metadata": {},
   "outputs": [],
   "source": [
    "# We then can rank nations happiness in 2022 "
   ]
  },
  {
   "cell_type": "code",
   "execution_count": 33,
   "id": "8e6df1cf",
   "metadata": {},
   "outputs": [
    {
     "data": {
      "text/html": [
       "<div>\n",
       "<style scoped>\n",
       "    .dataframe tbody tr th:only-of-type {\n",
       "        vertical-align: middle;\n",
       "    }\n",
       "\n",
       "    .dataframe tbody tr th {\n",
       "        vertical-align: top;\n",
       "    }\n",
       "\n",
       "    .dataframe thead th {\n",
       "        text-align: right;\n",
       "    }\n",
       "</style>\n",
       "<table border=\"1\" class=\"dataframe\">\n",
       "  <thead>\n",
       "    <tr style=\"text-align: right;\">\n",
       "      <th></th>\n",
       "      <th>Country (region)</th>\n",
       "      <th>Ladder</th>\n",
       "      <th>SD of Ladder</th>\n",
       "      <th>Positive affect</th>\n",
       "      <th>Negative affect</th>\n",
       "      <th>Social support</th>\n",
       "      <th>Freedom</th>\n",
       "      <th>Corruption</th>\n",
       "      <th>Generosity</th>\n",
       "      <th>Log of GDP\\nper capita</th>\n",
       "      <th>Healthy life\\nexpectancy</th>\n",
       "    </tr>\n",
       "  </thead>\n",
       "  <tbody>\n",
       "    <tr>\n",
       "      <th>0</th>\n",
       "      <td>Finland</td>\n",
       "      <td>1</td>\n",
       "      <td>4</td>\n",
       "      <td>41.0</td>\n",
       "      <td>10.0</td>\n",
       "      <td>2.0</td>\n",
       "      <td>5.0</td>\n",
       "      <td>4.0</td>\n",
       "      <td>47.0</td>\n",
       "      <td>22.0</td>\n",
       "      <td>27.0</td>\n",
       "    </tr>\n",
       "    <tr>\n",
       "      <th>1</th>\n",
       "      <td>Denmark</td>\n",
       "      <td>2</td>\n",
       "      <td>13</td>\n",
       "      <td>24.0</td>\n",
       "      <td>26.0</td>\n",
       "      <td>4.0</td>\n",
       "      <td>6.0</td>\n",
       "      <td>3.0</td>\n",
       "      <td>22.0</td>\n",
       "      <td>14.0</td>\n",
       "      <td>23.0</td>\n",
       "    </tr>\n",
       "    <tr>\n",
       "      <th>2</th>\n",
       "      <td>Norway</td>\n",
       "      <td>3</td>\n",
       "      <td>8</td>\n",
       "      <td>16.0</td>\n",
       "      <td>29.0</td>\n",
       "      <td>3.0</td>\n",
       "      <td>3.0</td>\n",
       "      <td>8.0</td>\n",
       "      <td>11.0</td>\n",
       "      <td>7.0</td>\n",
       "      <td>12.0</td>\n",
       "    </tr>\n",
       "    <tr>\n",
       "      <th>3</th>\n",
       "      <td>Iceland</td>\n",
       "      <td>4</td>\n",
       "      <td>9</td>\n",
       "      <td>3.0</td>\n",
       "      <td>3.0</td>\n",
       "      <td>1.0</td>\n",
       "      <td>7.0</td>\n",
       "      <td>45.0</td>\n",
       "      <td>3.0</td>\n",
       "      <td>15.0</td>\n",
       "      <td>13.0</td>\n",
       "    </tr>\n",
       "    <tr>\n",
       "      <th>4</th>\n",
       "      <td>Netherlands</td>\n",
       "      <td>5</td>\n",
       "      <td>1</td>\n",
       "      <td>12.0</td>\n",
       "      <td>25.0</td>\n",
       "      <td>15.0</td>\n",
       "      <td>19.0</td>\n",
       "      <td>12.0</td>\n",
       "      <td>7.0</td>\n",
       "      <td>12.0</td>\n",
       "      <td>18.0</td>\n",
       "    </tr>\n",
       "  </tbody>\n",
       "</table>\n",
       "</div>"
      ],
      "text/plain": [
       "  Country (region)  Ladder  SD of Ladder  Positive affect  Negative affect  \\\n",
       "0          Finland       1             4             41.0             10.0   \n",
       "1          Denmark       2            13             24.0             26.0   \n",
       "2           Norway       3             8             16.0             29.0   \n",
       "3          Iceland       4             9              3.0              3.0   \n",
       "4      Netherlands       5             1             12.0             25.0   \n",
       "\n",
       "   Social support  Freedom  Corruption  Generosity  Log of GDP\\nper capita  \\\n",
       "0             2.0      5.0         4.0        47.0                    22.0   \n",
       "1             4.0      6.0         3.0        22.0                    14.0   \n",
       "2             3.0      3.0         8.0        11.0                     7.0   \n",
       "3             1.0      7.0        45.0         3.0                    15.0   \n",
       "4            15.0     19.0        12.0         7.0                    12.0   \n",
       "\n",
       "   Healthy life\\nexpectancy  \n",
       "0                      27.0  \n",
       "1                      23.0  \n",
       "2                      12.0  \n",
       "3                      13.0  \n",
       "4                      18.0  "
      ]
     },
     "execution_count": 33,
     "metadata": {},
     "output_type": "execute_result"
    }
   ],
   "source": [
    "df.head()"
   ]
  },
  {
   "cell_type": "code",
   "execution_count": 34,
   "id": "03bbddfa",
   "metadata": {},
   "outputs": [
    {
     "data": {
      "text/html": [
       "        <script type=\"text/javascript\">\n",
       "        window.PlotlyConfig = {MathJaxConfig: 'local'};\n",
       "        if (window.MathJax && window.MathJax.Hub && window.MathJax.Hub.Config) {window.MathJax.Hub.Config({SVG: {font: \"STIX-Web\"}});}\n",
       "        if (typeof require !== 'undefined') {\n",
       "        require.undef(\"plotly\");\n",
       "        requirejs.config({\n",
       "            paths: {\n",
       "                'plotly': ['https://cdn.plot.ly/plotly-2.24.1.min']\n",
       "            }\n",
       "        });\n",
       "        require(['plotly'], function(Plotly) {\n",
       "            window._Plotly = Plotly;\n",
       "        });\n",
       "        }\n",
       "        </script>\n",
       "        "
      ]
     },
     "metadata": {},
     "output_type": "display_data"
    },
    {
     "data": {
      "application/vnd.plotly.v1+json": {
       "config": {
        "linkText": "Export to plot.ly",
        "plotlyServerURL": "https://plot.ly",
        "showLink": false
       },
       "data": [
        {
         "colorbar": {
          "title": {
           "text": "Happiness"
          }
         },
         "locationmode": "country names",
         "locations": [
          "Finland",
          "Denmark",
          "Norway",
          "Iceland",
          "Netherlands",
          "Switzerland",
          "Sweden",
          "New Zealand",
          "Canada",
          "Austria",
          "Australia",
          "Costa Rica",
          "Israel",
          "Luxembourg",
          "United Kingdom",
          "Ireland",
          "Germany",
          "Belgium",
          "United States",
          "Czech Republic",
          "United Arab Emirates",
          "Malta",
          "Mexico",
          "France",
          "Taiwan",
          "Chile",
          "Guatemala",
          "Saudi Arabia",
          "Qatar",
          "Spain",
          "Panama",
          "Brazil",
          "Uruguay",
          "Singapore",
          "El Salvador",
          "Italy",
          "Bahrain",
          "Slovakia",
          "Trinidad and Tobago",
          "Poland",
          "Uzbekistan",
          "Lithuania",
          "Colombia",
          "Slovenia",
          "Nicaragua",
          "Kosovo",
          "Argentina",
          "Romania",
          "Cyprus",
          "Ecuador",
          "Kuwait",
          "Thailand",
          "Latvia",
          "South Korea",
          "Estonia",
          "Jamaica",
          "Mauritius",
          "Japan",
          "Honduras",
          "Kazakhstan",
          "Bolivia",
          "Hungary",
          "Paraguay",
          "Northern Cyprus",
          "Peru",
          "Portugal",
          "Pakistan",
          "Russia",
          "Philippines",
          "Serbia",
          "Moldova",
          "Libya",
          "Montenegro",
          "Tajikistan",
          "Croatia",
          "Hong Kong",
          "Dominican Republic",
          "Bosnia and Herzegovina ",
          "Turkey",
          "Malaysia",
          "Belarus",
          "Greece",
          "Mongolia",
          "Macedonia",
          "Nigeria",
          "Kyrgyzstan",
          "Turkmenistan",
          "Algeria",
          "Morocco",
          "Azerbaijan",
          "Lebanon",
          "Indonesia",
          "China",
          "Vietnam",
          "Bhutan",
          "Cameroon",
          "Bulgaria",
          "Ghana",
          "Ivory Coast",
          "Nepal",
          "Jordan",
          "Benin",
          "Congo (Brazzaville)",
          "Gabon",
          "Laos",
          "South Africa",
          "Albania",
          "Venezuela",
          "Cambodia",
          "Palestinian Territories",
          "Senegal",
          "Somalia",
          "Namibia",
          "Niger",
          "Burkina Faso",
          "Armenia",
          "Iran",
          "Guinea",
          "Georgia",
          "Gambia",
          "Kenya",
          "Mauritania",
          "Mozambique",
          "Tunisia",
          "Bangladesh",
          "Iraq",
          "Congo (Kinshasa)",
          "Mali",
          "Sierra Leone",
          "Sri Lanka",
          "Myanmar",
          "Chad",
          "Ukraine",
          "Ethiopia",
          "Swaziland",
          "Uganda",
          "Egypt",
          "Zambia",
          "Togo",
          "India",
          "Liberia",
          "Comoros",
          "Madagascar",
          "Lesotho",
          "Burundi",
          "Zimbabwe",
          "Haiti",
          "Botswana",
          "Syria",
          "Malawi",
          "Yemen",
          "Rwanda",
          "Tanzania",
          "Afghanistan",
          "Central African Republic",
          "South Sudan"
         ],
         "text": [
          "Finland",
          "Denmark",
          "Norway",
          "Iceland",
          "Netherlands",
          "Switzerland",
          "Sweden",
          "New Zealand",
          "Canada",
          "Austria",
          "Australia",
          "Costa Rica",
          "Israel",
          "Luxembourg",
          "United Kingdom",
          "Ireland",
          "Germany",
          "Belgium",
          "United States",
          "Czech Republic",
          "United Arab Emirates",
          "Malta",
          "Mexico",
          "France",
          "Taiwan",
          "Chile",
          "Guatemala",
          "Saudi Arabia",
          "Qatar",
          "Spain",
          "Panama",
          "Brazil",
          "Uruguay",
          "Singapore",
          "El Salvador",
          "Italy",
          "Bahrain",
          "Slovakia",
          "Trinidad and Tobago",
          "Poland",
          "Uzbekistan",
          "Lithuania",
          "Colombia",
          "Slovenia",
          "Nicaragua",
          "Kosovo",
          "Argentina",
          "Romania",
          "Cyprus",
          "Ecuador",
          "Kuwait",
          "Thailand",
          "Latvia",
          "South Korea",
          "Estonia",
          "Jamaica",
          "Mauritius",
          "Japan",
          "Honduras",
          "Kazakhstan",
          "Bolivia",
          "Hungary",
          "Paraguay",
          "Northern Cyprus",
          "Peru",
          "Portugal",
          "Pakistan",
          "Russia",
          "Philippines",
          "Serbia",
          "Moldova",
          "Libya",
          "Montenegro",
          "Tajikistan",
          "Croatia",
          "Hong Kong",
          "Dominican Republic",
          "Bosnia and Herzegovina ",
          "Turkey",
          "Malaysia",
          "Belarus",
          "Greece",
          "Mongolia",
          "Macedonia",
          "Nigeria",
          "Kyrgyzstan",
          "Turkmenistan",
          "Algeria",
          "Morocco",
          "Azerbaijan",
          "Lebanon",
          "Indonesia",
          "China",
          "Vietnam",
          "Bhutan",
          "Cameroon",
          "Bulgaria",
          "Ghana",
          "Ivory Coast",
          "Nepal",
          "Jordan",
          "Benin",
          "Congo (Brazzaville)",
          "Gabon",
          "Laos",
          "South Africa",
          "Albania",
          "Venezuela",
          "Cambodia",
          "Palestinian Territories",
          "Senegal",
          "Somalia",
          "Namibia",
          "Niger",
          "Burkina Faso",
          "Armenia",
          "Iran",
          "Guinea",
          "Georgia",
          "Gambia",
          "Kenya",
          "Mauritania",
          "Mozambique",
          "Tunisia",
          "Bangladesh",
          "Iraq",
          "Congo (Kinshasa)",
          "Mali",
          "Sierra Leone",
          "Sri Lanka",
          "Myanmar",
          "Chad",
          "Ukraine",
          "Ethiopia",
          "Swaziland",
          "Uganda",
          "Egypt",
          "Zambia",
          "Togo",
          "India",
          "Liberia",
          "Comoros",
          "Madagascar",
          "Lesotho",
          "Burundi",
          "Zimbabwe",
          "Haiti",
          "Botswana",
          "Syria",
          "Malawi",
          "Yemen",
          "Rwanda",
          "Tanzania",
          "Afghanistan",
          "Central African Republic",
          "South Sudan"
         ],
         "type": "choropleth",
         "z": [
          1,
          2,
          3,
          4,
          5,
          6,
          7,
          8,
          9,
          10,
          11,
          12,
          13,
          14,
          15,
          16,
          17,
          18,
          19,
          20,
          21,
          22,
          23,
          24,
          25,
          26,
          27,
          28,
          29,
          30,
          31,
          32,
          33,
          34,
          35,
          36,
          37,
          38,
          39,
          40,
          41,
          42,
          43,
          44,
          45,
          46,
          47,
          48,
          49,
          50,
          51,
          52,
          53,
          54,
          55,
          56,
          57,
          58,
          59,
          60,
          61,
          62,
          63,
          64,
          65,
          66,
          67,
          68,
          69,
          70,
          71,
          72,
          73,
          74,
          75,
          76,
          77,
          78,
          79,
          80,
          81,
          82,
          83,
          84,
          85,
          86,
          87,
          88,
          89,
          90,
          91,
          92,
          93,
          94,
          95,
          96,
          97,
          98,
          99,
          100,
          101,
          102,
          103,
          104,
          105,
          106,
          107,
          108,
          109,
          110,
          111,
          112,
          113,
          114,
          115,
          116,
          117,
          118,
          119,
          120,
          121,
          122,
          123,
          124,
          125,
          126,
          127,
          128,
          129,
          130,
          131,
          132,
          133,
          134,
          135,
          136,
          137,
          138,
          139,
          140,
          141,
          142,
          143,
          144,
          145,
          146,
          147,
          148,
          149,
          150,
          151,
          152,
          153,
          154,
          155,
          156
         ]
        }
       ],
       "layout": {
        "geo": {
         "showframe": false
        },
        "template": {
         "data": {
          "bar": [
           {
            "error_x": {
             "color": "#2a3f5f"
            },
            "error_y": {
             "color": "#2a3f5f"
            },
            "marker": {
             "line": {
              "color": "#E5ECF6",
              "width": 0.5
             },
             "pattern": {
              "fillmode": "overlay",
              "size": 10,
              "solidity": 0.2
             }
            },
            "type": "bar"
           }
          ],
          "barpolar": [
           {
            "marker": {
             "line": {
              "color": "#E5ECF6",
              "width": 0.5
             },
             "pattern": {
              "fillmode": "overlay",
              "size": 10,
              "solidity": 0.2
             }
            },
            "type": "barpolar"
           }
          ],
          "carpet": [
           {
            "aaxis": {
             "endlinecolor": "#2a3f5f",
             "gridcolor": "white",
             "linecolor": "white",
             "minorgridcolor": "white",
             "startlinecolor": "#2a3f5f"
            },
            "baxis": {
             "endlinecolor": "#2a3f5f",
             "gridcolor": "white",
             "linecolor": "white",
             "minorgridcolor": "white",
             "startlinecolor": "#2a3f5f"
            },
            "type": "carpet"
           }
          ],
          "choropleth": [
           {
            "colorbar": {
             "outlinewidth": 0,
             "ticks": ""
            },
            "type": "choropleth"
           }
          ],
          "contour": [
           {
            "colorbar": {
             "outlinewidth": 0,
             "ticks": ""
            },
            "colorscale": [
             [
              0,
              "#0d0887"
             ],
             [
              0.1111111111111111,
              "#46039f"
             ],
             [
              0.2222222222222222,
              "#7201a8"
             ],
             [
              0.3333333333333333,
              "#9c179e"
             ],
             [
              0.4444444444444444,
              "#bd3786"
             ],
             [
              0.5555555555555556,
              "#d8576b"
             ],
             [
              0.6666666666666666,
              "#ed7953"
             ],
             [
              0.7777777777777778,
              "#fb9f3a"
             ],
             [
              0.8888888888888888,
              "#fdca26"
             ],
             [
              1,
              "#f0f921"
             ]
            ],
            "type": "contour"
           }
          ],
          "contourcarpet": [
           {
            "colorbar": {
             "outlinewidth": 0,
             "ticks": ""
            },
            "type": "contourcarpet"
           }
          ],
          "heatmap": [
           {
            "colorbar": {
             "outlinewidth": 0,
             "ticks": ""
            },
            "colorscale": [
             [
              0,
              "#0d0887"
             ],
             [
              0.1111111111111111,
              "#46039f"
             ],
             [
              0.2222222222222222,
              "#7201a8"
             ],
             [
              0.3333333333333333,
              "#9c179e"
             ],
             [
              0.4444444444444444,
              "#bd3786"
             ],
             [
              0.5555555555555556,
              "#d8576b"
             ],
             [
              0.6666666666666666,
              "#ed7953"
             ],
             [
              0.7777777777777778,
              "#fb9f3a"
             ],
             [
              0.8888888888888888,
              "#fdca26"
             ],
             [
              1,
              "#f0f921"
             ]
            ],
            "type": "heatmap"
           }
          ],
          "heatmapgl": [
           {
            "colorbar": {
             "outlinewidth": 0,
             "ticks": ""
            },
            "colorscale": [
             [
              0,
              "#0d0887"
             ],
             [
              0.1111111111111111,
              "#46039f"
             ],
             [
              0.2222222222222222,
              "#7201a8"
             ],
             [
              0.3333333333333333,
              "#9c179e"
             ],
             [
              0.4444444444444444,
              "#bd3786"
             ],
             [
              0.5555555555555556,
              "#d8576b"
             ],
             [
              0.6666666666666666,
              "#ed7953"
             ],
             [
              0.7777777777777778,
              "#fb9f3a"
             ],
             [
              0.8888888888888888,
              "#fdca26"
             ],
             [
              1,
              "#f0f921"
             ]
            ],
            "type": "heatmapgl"
           }
          ],
          "histogram": [
           {
            "marker": {
             "pattern": {
              "fillmode": "overlay",
              "size": 10,
              "solidity": 0.2
             }
            },
            "type": "histogram"
           }
          ],
          "histogram2d": [
           {
            "colorbar": {
             "outlinewidth": 0,
             "ticks": ""
            },
            "colorscale": [
             [
              0,
              "#0d0887"
             ],
             [
              0.1111111111111111,
              "#46039f"
             ],
             [
              0.2222222222222222,
              "#7201a8"
             ],
             [
              0.3333333333333333,
              "#9c179e"
             ],
             [
              0.4444444444444444,
              "#bd3786"
             ],
             [
              0.5555555555555556,
              "#d8576b"
             ],
             [
              0.6666666666666666,
              "#ed7953"
             ],
             [
              0.7777777777777778,
              "#fb9f3a"
             ],
             [
              0.8888888888888888,
              "#fdca26"
             ],
             [
              1,
              "#f0f921"
             ]
            ],
            "type": "histogram2d"
           }
          ],
          "histogram2dcontour": [
           {
            "colorbar": {
             "outlinewidth": 0,
             "ticks": ""
            },
            "colorscale": [
             [
              0,
              "#0d0887"
             ],
             [
              0.1111111111111111,
              "#46039f"
             ],
             [
              0.2222222222222222,
              "#7201a8"
             ],
             [
              0.3333333333333333,
              "#9c179e"
             ],
             [
              0.4444444444444444,
              "#bd3786"
             ],
             [
              0.5555555555555556,
              "#d8576b"
             ],
             [
              0.6666666666666666,
              "#ed7953"
             ],
             [
              0.7777777777777778,
              "#fb9f3a"
             ],
             [
              0.8888888888888888,
              "#fdca26"
             ],
             [
              1,
              "#f0f921"
             ]
            ],
            "type": "histogram2dcontour"
           }
          ],
          "mesh3d": [
           {
            "colorbar": {
             "outlinewidth": 0,
             "ticks": ""
            },
            "type": "mesh3d"
           }
          ],
          "parcoords": [
           {
            "line": {
             "colorbar": {
              "outlinewidth": 0,
              "ticks": ""
             }
            },
            "type": "parcoords"
           }
          ],
          "pie": [
           {
            "automargin": true,
            "type": "pie"
           }
          ],
          "scatter": [
           {
            "fillpattern": {
             "fillmode": "overlay",
             "size": 10,
             "solidity": 0.2
            },
            "type": "scatter"
           }
          ],
          "scatter3d": [
           {
            "line": {
             "colorbar": {
              "outlinewidth": 0,
              "ticks": ""
             }
            },
            "marker": {
             "colorbar": {
              "outlinewidth": 0,
              "ticks": ""
             }
            },
            "type": "scatter3d"
           }
          ],
          "scattercarpet": [
           {
            "marker": {
             "colorbar": {
              "outlinewidth": 0,
              "ticks": ""
             }
            },
            "type": "scattercarpet"
           }
          ],
          "scattergeo": [
           {
            "marker": {
             "colorbar": {
              "outlinewidth": 0,
              "ticks": ""
             }
            },
            "type": "scattergeo"
           }
          ],
          "scattergl": [
           {
            "marker": {
             "colorbar": {
              "outlinewidth": 0,
              "ticks": ""
             }
            },
            "type": "scattergl"
           }
          ],
          "scattermapbox": [
           {
            "marker": {
             "colorbar": {
              "outlinewidth": 0,
              "ticks": ""
             }
            },
            "type": "scattermapbox"
           }
          ],
          "scatterpolar": [
           {
            "marker": {
             "colorbar": {
              "outlinewidth": 0,
              "ticks": ""
             }
            },
            "type": "scatterpolar"
           }
          ],
          "scatterpolargl": [
           {
            "marker": {
             "colorbar": {
              "outlinewidth": 0,
              "ticks": ""
             }
            },
            "type": "scatterpolargl"
           }
          ],
          "scatterternary": [
           {
            "marker": {
             "colorbar": {
              "outlinewidth": 0,
              "ticks": ""
             }
            },
            "type": "scatterternary"
           }
          ],
          "surface": [
           {
            "colorbar": {
             "outlinewidth": 0,
             "ticks": ""
            },
            "colorscale": [
             [
              0,
              "#0d0887"
             ],
             [
              0.1111111111111111,
              "#46039f"
             ],
             [
              0.2222222222222222,
              "#7201a8"
             ],
             [
              0.3333333333333333,
              "#9c179e"
             ],
             [
              0.4444444444444444,
              "#bd3786"
             ],
             [
              0.5555555555555556,
              "#d8576b"
             ],
             [
              0.6666666666666666,
              "#ed7953"
             ],
             [
              0.7777777777777778,
              "#fb9f3a"
             ],
             [
              0.8888888888888888,
              "#fdca26"
             ],
             [
              1,
              "#f0f921"
             ]
            ],
            "type": "surface"
           }
          ],
          "table": [
           {
            "cells": {
             "fill": {
              "color": "#EBF0F8"
             },
             "line": {
              "color": "white"
             }
            },
            "header": {
             "fill": {
              "color": "#C8D4E3"
             },
             "line": {
              "color": "white"
             }
            },
            "type": "table"
           }
          ]
         },
         "layout": {
          "annotationdefaults": {
           "arrowcolor": "#2a3f5f",
           "arrowhead": 0,
           "arrowwidth": 1
          },
          "autotypenumbers": "strict",
          "coloraxis": {
           "colorbar": {
            "outlinewidth": 0,
            "ticks": ""
           }
          },
          "colorscale": {
           "diverging": [
            [
             0,
             "#8e0152"
            ],
            [
             0.1,
             "#c51b7d"
            ],
            [
             0.2,
             "#de77ae"
            ],
            [
             0.3,
             "#f1b6da"
            ],
            [
             0.4,
             "#fde0ef"
            ],
            [
             0.5,
             "#f7f7f7"
            ],
            [
             0.6,
             "#e6f5d0"
            ],
            [
             0.7,
             "#b8e186"
            ],
            [
             0.8,
             "#7fbc41"
            ],
            [
             0.9,
             "#4d9221"
            ],
            [
             1,
             "#276419"
            ]
           ],
           "sequential": [
            [
             0,
             "#0d0887"
            ],
            [
             0.1111111111111111,
             "#46039f"
            ],
            [
             0.2222222222222222,
             "#7201a8"
            ],
            [
             0.3333333333333333,
             "#9c179e"
            ],
            [
             0.4444444444444444,
             "#bd3786"
            ],
            [
             0.5555555555555556,
             "#d8576b"
            ],
            [
             0.6666666666666666,
             "#ed7953"
            ],
            [
             0.7777777777777778,
             "#fb9f3a"
            ],
            [
             0.8888888888888888,
             "#fdca26"
            ],
            [
             1,
             "#f0f921"
            ]
           ],
           "sequentialminus": [
            [
             0,
             "#0d0887"
            ],
            [
             0.1111111111111111,
             "#46039f"
            ],
            [
             0.2222222222222222,
             "#7201a8"
            ],
            [
             0.3333333333333333,
             "#9c179e"
            ],
            [
             0.4444444444444444,
             "#bd3786"
            ],
            [
             0.5555555555555556,
             "#d8576b"
            ],
            [
             0.6666666666666666,
             "#ed7953"
            ],
            [
             0.7777777777777778,
             "#fb9f3a"
            ],
            [
             0.8888888888888888,
             "#fdca26"
            ],
            [
             1,
             "#f0f921"
            ]
           ]
          },
          "colorway": [
           "#636efa",
           "#EF553B",
           "#00cc96",
           "#ab63fa",
           "#FFA15A",
           "#19d3f3",
           "#FF6692",
           "#B6E880",
           "#FF97FF",
           "#FECB52"
          ],
          "font": {
           "color": "#2a3f5f"
          },
          "geo": {
           "bgcolor": "white",
           "lakecolor": "white",
           "landcolor": "#E5ECF6",
           "showlakes": true,
           "showland": true,
           "subunitcolor": "white"
          },
          "hoverlabel": {
           "align": "left"
          },
          "hovermode": "closest",
          "mapbox": {
           "style": "light"
          },
          "paper_bgcolor": "white",
          "plot_bgcolor": "#E5ECF6",
          "polar": {
           "angularaxis": {
            "gridcolor": "white",
            "linecolor": "white",
            "ticks": ""
           },
           "bgcolor": "#E5ECF6",
           "radialaxis": {
            "gridcolor": "white",
            "linecolor": "white",
            "ticks": ""
           }
          },
          "scene": {
           "xaxis": {
            "backgroundcolor": "#E5ECF6",
            "gridcolor": "white",
            "gridwidth": 2,
            "linecolor": "white",
            "showbackground": true,
            "ticks": "",
            "zerolinecolor": "white"
           },
           "yaxis": {
            "backgroundcolor": "#E5ECF6",
            "gridcolor": "white",
            "gridwidth": 2,
            "linecolor": "white",
            "showbackground": true,
            "ticks": "",
            "zerolinecolor": "white"
           },
           "zaxis": {
            "backgroundcolor": "#E5ECF6",
            "gridcolor": "white",
            "gridwidth": 2,
            "linecolor": "white",
            "showbackground": true,
            "ticks": "",
            "zerolinecolor": "white"
           }
          },
          "shapedefaults": {
           "line": {
            "color": "#2a3f5f"
           }
          },
          "ternary": {
           "aaxis": {
            "gridcolor": "white",
            "linecolor": "white",
            "ticks": ""
           },
           "baxis": {
            "gridcolor": "white",
            "linecolor": "white",
            "ticks": ""
           },
           "bgcolor": "#E5ECF6",
           "caxis": {
            "gridcolor": "white",
            "linecolor": "white",
            "ticks": ""
           }
          },
          "title": {
           "x": 0.05
          },
          "xaxis": {
           "automargin": true,
           "gridcolor": "white",
           "linecolor": "white",
           "ticks": "",
           "title": {
            "standoff": 15
           },
           "zerolinecolor": "white",
           "zerolinewidth": 2
          },
          "yaxis": {
           "automargin": true,
           "gridcolor": "white",
           "linecolor": "white",
           "ticks": "",
           "title": {
            "standoff": 15
           },
           "zerolinecolor": "white",
           "zerolinewidth": 2
          }
         }
        },
        "title": {
         "text": "Global Happiness 2019"
        }
       }
      },
      "text/html": [
       "<div>                            <div id=\"0154f6fe-fdbe-4491-a12e-b03fec5f569e\" class=\"plotly-graph-div\" style=\"height:525px; width:100%;\"></div>            <script type=\"text/javascript\">                require([\"plotly\"], function(Plotly) {                    window.PLOTLYENV=window.PLOTLYENV || {};                                    if (document.getElementById(\"0154f6fe-fdbe-4491-a12e-b03fec5f569e\")) {                    Plotly.newPlot(                        \"0154f6fe-fdbe-4491-a12e-b03fec5f569e\",                        [{\"colorbar\":{\"title\":{\"text\":\"Happiness\"}},\"locationmode\":\"country names\",\"locations\":[\"Finland\",\"Denmark\",\"Norway\",\"Iceland\",\"Netherlands\",\"Switzerland\",\"Sweden\",\"New Zealand\",\"Canada\",\"Austria\",\"Australia\",\"Costa Rica\",\"Israel\",\"Luxembourg\",\"United Kingdom\",\"Ireland\",\"Germany\",\"Belgium\",\"United States\",\"Czech Republic\",\"United Arab Emirates\",\"Malta\",\"Mexico\",\"France\",\"Taiwan\",\"Chile\",\"Guatemala\",\"Saudi Arabia\",\"Qatar\",\"Spain\",\"Panama\",\"Brazil\",\"Uruguay\",\"Singapore\",\"El Salvador\",\"Italy\",\"Bahrain\",\"Slovakia\",\"Trinidad and Tobago\",\"Poland\",\"Uzbekistan\",\"Lithuania\",\"Colombia\",\"Slovenia\",\"Nicaragua\",\"Kosovo\",\"Argentina\",\"Romania\",\"Cyprus\",\"Ecuador\",\"Kuwait\",\"Thailand\",\"Latvia\",\"South Korea\",\"Estonia\",\"Jamaica\",\"Mauritius\",\"Japan\",\"Honduras\",\"Kazakhstan\",\"Bolivia\",\"Hungary\",\"Paraguay\",\"Northern Cyprus\",\"Peru\",\"Portugal\",\"Pakistan\",\"Russia\",\"Philippines\",\"Serbia\",\"Moldova\",\"Libya\",\"Montenegro\",\"Tajikistan\",\"Croatia\",\"Hong Kong\",\"Dominican Republic\",\"Bosnia and Herzegovina \",\"Turkey\",\"Malaysia\",\"Belarus\",\"Greece\",\"Mongolia\",\"Macedonia\",\"Nigeria\",\"Kyrgyzstan\",\"Turkmenistan\",\"Algeria\",\"Morocco\",\"Azerbaijan\",\"Lebanon\",\"Indonesia\",\"China\",\"Vietnam\",\"Bhutan\",\"Cameroon\",\"Bulgaria\",\"Ghana\",\"Ivory Coast\",\"Nepal\",\"Jordan\",\"Benin\",\"Congo (Brazzaville)\",\"Gabon\",\"Laos\",\"South Africa\",\"Albania\",\"Venezuela\",\"Cambodia\",\"Palestinian Territories\",\"Senegal\",\"Somalia\",\"Namibia\",\"Niger\",\"Burkina Faso\",\"Armenia\",\"Iran\",\"Guinea\",\"Georgia\",\"Gambia\",\"Kenya\",\"Mauritania\",\"Mozambique\",\"Tunisia\",\"Bangladesh\",\"Iraq\",\"Congo (Kinshasa)\",\"Mali\",\"Sierra Leone\",\"Sri Lanka\",\"Myanmar\",\"Chad\",\"Ukraine\",\"Ethiopia\",\"Swaziland\",\"Uganda\",\"Egypt\",\"Zambia\",\"Togo\",\"India\",\"Liberia\",\"Comoros\",\"Madagascar\",\"Lesotho\",\"Burundi\",\"Zimbabwe\",\"Haiti\",\"Botswana\",\"Syria\",\"Malawi\",\"Yemen\",\"Rwanda\",\"Tanzania\",\"Afghanistan\",\"Central African Republic\",\"South Sudan\"],\"text\":[\"Finland\",\"Denmark\",\"Norway\",\"Iceland\",\"Netherlands\",\"Switzerland\",\"Sweden\",\"New Zealand\",\"Canada\",\"Austria\",\"Australia\",\"Costa Rica\",\"Israel\",\"Luxembourg\",\"United Kingdom\",\"Ireland\",\"Germany\",\"Belgium\",\"United States\",\"Czech Republic\",\"United Arab Emirates\",\"Malta\",\"Mexico\",\"France\",\"Taiwan\",\"Chile\",\"Guatemala\",\"Saudi Arabia\",\"Qatar\",\"Spain\",\"Panama\",\"Brazil\",\"Uruguay\",\"Singapore\",\"El Salvador\",\"Italy\",\"Bahrain\",\"Slovakia\",\"Trinidad and Tobago\",\"Poland\",\"Uzbekistan\",\"Lithuania\",\"Colombia\",\"Slovenia\",\"Nicaragua\",\"Kosovo\",\"Argentina\",\"Romania\",\"Cyprus\",\"Ecuador\",\"Kuwait\",\"Thailand\",\"Latvia\",\"South Korea\",\"Estonia\",\"Jamaica\",\"Mauritius\",\"Japan\",\"Honduras\",\"Kazakhstan\",\"Bolivia\",\"Hungary\",\"Paraguay\",\"Northern Cyprus\",\"Peru\",\"Portugal\",\"Pakistan\",\"Russia\",\"Philippines\",\"Serbia\",\"Moldova\",\"Libya\",\"Montenegro\",\"Tajikistan\",\"Croatia\",\"Hong Kong\",\"Dominican Republic\",\"Bosnia and Herzegovina \",\"Turkey\",\"Malaysia\",\"Belarus\",\"Greece\",\"Mongolia\",\"Macedonia\",\"Nigeria\",\"Kyrgyzstan\",\"Turkmenistan\",\"Algeria\",\"Morocco\",\"Azerbaijan\",\"Lebanon\",\"Indonesia\",\"China\",\"Vietnam\",\"Bhutan\",\"Cameroon\",\"Bulgaria\",\"Ghana\",\"Ivory Coast\",\"Nepal\",\"Jordan\",\"Benin\",\"Congo (Brazzaville)\",\"Gabon\",\"Laos\",\"South Africa\",\"Albania\",\"Venezuela\",\"Cambodia\",\"Palestinian Territories\",\"Senegal\",\"Somalia\",\"Namibia\",\"Niger\",\"Burkina Faso\",\"Armenia\",\"Iran\",\"Guinea\",\"Georgia\",\"Gambia\",\"Kenya\",\"Mauritania\",\"Mozambique\",\"Tunisia\",\"Bangladesh\",\"Iraq\",\"Congo (Kinshasa)\",\"Mali\",\"Sierra Leone\",\"Sri Lanka\",\"Myanmar\",\"Chad\",\"Ukraine\",\"Ethiopia\",\"Swaziland\",\"Uganda\",\"Egypt\",\"Zambia\",\"Togo\",\"India\",\"Liberia\",\"Comoros\",\"Madagascar\",\"Lesotho\",\"Burundi\",\"Zimbabwe\",\"Haiti\",\"Botswana\",\"Syria\",\"Malawi\",\"Yemen\",\"Rwanda\",\"Tanzania\",\"Afghanistan\",\"Central African Republic\",\"South Sudan\"],\"z\":[1,2,3,4,5,6,7,8,9,10,11,12,13,14,15,16,17,18,19,20,21,22,23,24,25,26,27,28,29,30,31,32,33,34,35,36,37,38,39,40,41,42,43,44,45,46,47,48,49,50,51,52,53,54,55,56,57,58,59,60,61,62,63,64,65,66,67,68,69,70,71,72,73,74,75,76,77,78,79,80,81,82,83,84,85,86,87,88,89,90,91,92,93,94,95,96,97,98,99,100,101,102,103,104,105,106,107,108,109,110,111,112,113,114,115,116,117,118,119,120,121,122,123,124,125,126,127,128,129,130,131,132,133,134,135,136,137,138,139,140,141,142,143,144,145,146,147,148,149,150,151,152,153,154,155,156],\"type\":\"choropleth\"}],                        {\"geo\":{\"showframe\":false},\"template\":{\"data\":{\"barpolar\":[{\"marker\":{\"line\":{\"color\":\"#E5ECF6\",\"width\":0.5},\"pattern\":{\"fillmode\":\"overlay\",\"size\":10,\"solidity\":0.2}},\"type\":\"barpolar\"}],\"bar\":[{\"error_x\":{\"color\":\"#2a3f5f\"},\"error_y\":{\"color\":\"#2a3f5f\"},\"marker\":{\"line\":{\"color\":\"#E5ECF6\",\"width\":0.5},\"pattern\":{\"fillmode\":\"overlay\",\"size\":10,\"solidity\":0.2}},\"type\":\"bar\"}],\"carpet\":[{\"aaxis\":{\"endlinecolor\":\"#2a3f5f\",\"gridcolor\":\"white\",\"linecolor\":\"white\",\"minorgridcolor\":\"white\",\"startlinecolor\":\"#2a3f5f\"},\"baxis\":{\"endlinecolor\":\"#2a3f5f\",\"gridcolor\":\"white\",\"linecolor\":\"white\",\"minorgridcolor\":\"white\",\"startlinecolor\":\"#2a3f5f\"},\"type\":\"carpet\"}],\"choropleth\":[{\"colorbar\":{\"outlinewidth\":0,\"ticks\":\"\"},\"type\":\"choropleth\"}],\"contourcarpet\":[{\"colorbar\":{\"outlinewidth\":0,\"ticks\":\"\"},\"type\":\"contourcarpet\"}],\"contour\":[{\"colorbar\":{\"outlinewidth\":0,\"ticks\":\"\"},\"colorscale\":[[0.0,\"#0d0887\"],[0.1111111111111111,\"#46039f\"],[0.2222222222222222,\"#7201a8\"],[0.3333333333333333,\"#9c179e\"],[0.4444444444444444,\"#bd3786\"],[0.5555555555555556,\"#d8576b\"],[0.6666666666666666,\"#ed7953\"],[0.7777777777777778,\"#fb9f3a\"],[0.8888888888888888,\"#fdca26\"],[1.0,\"#f0f921\"]],\"type\":\"contour\"}],\"heatmapgl\":[{\"colorbar\":{\"outlinewidth\":0,\"ticks\":\"\"},\"colorscale\":[[0.0,\"#0d0887\"],[0.1111111111111111,\"#46039f\"],[0.2222222222222222,\"#7201a8\"],[0.3333333333333333,\"#9c179e\"],[0.4444444444444444,\"#bd3786\"],[0.5555555555555556,\"#d8576b\"],[0.6666666666666666,\"#ed7953\"],[0.7777777777777778,\"#fb9f3a\"],[0.8888888888888888,\"#fdca26\"],[1.0,\"#f0f921\"]],\"type\":\"heatmapgl\"}],\"heatmap\":[{\"colorbar\":{\"outlinewidth\":0,\"ticks\":\"\"},\"colorscale\":[[0.0,\"#0d0887\"],[0.1111111111111111,\"#46039f\"],[0.2222222222222222,\"#7201a8\"],[0.3333333333333333,\"#9c179e\"],[0.4444444444444444,\"#bd3786\"],[0.5555555555555556,\"#d8576b\"],[0.6666666666666666,\"#ed7953\"],[0.7777777777777778,\"#fb9f3a\"],[0.8888888888888888,\"#fdca26\"],[1.0,\"#f0f921\"]],\"type\":\"heatmap\"}],\"histogram2dcontour\":[{\"colorbar\":{\"outlinewidth\":0,\"ticks\":\"\"},\"colorscale\":[[0.0,\"#0d0887\"],[0.1111111111111111,\"#46039f\"],[0.2222222222222222,\"#7201a8\"],[0.3333333333333333,\"#9c179e\"],[0.4444444444444444,\"#bd3786\"],[0.5555555555555556,\"#d8576b\"],[0.6666666666666666,\"#ed7953\"],[0.7777777777777778,\"#fb9f3a\"],[0.8888888888888888,\"#fdca26\"],[1.0,\"#f0f921\"]],\"type\":\"histogram2dcontour\"}],\"histogram2d\":[{\"colorbar\":{\"outlinewidth\":0,\"ticks\":\"\"},\"colorscale\":[[0.0,\"#0d0887\"],[0.1111111111111111,\"#46039f\"],[0.2222222222222222,\"#7201a8\"],[0.3333333333333333,\"#9c179e\"],[0.4444444444444444,\"#bd3786\"],[0.5555555555555556,\"#d8576b\"],[0.6666666666666666,\"#ed7953\"],[0.7777777777777778,\"#fb9f3a\"],[0.8888888888888888,\"#fdca26\"],[1.0,\"#f0f921\"]],\"type\":\"histogram2d\"}],\"histogram\":[{\"marker\":{\"pattern\":{\"fillmode\":\"overlay\",\"size\":10,\"solidity\":0.2}},\"type\":\"histogram\"}],\"mesh3d\":[{\"colorbar\":{\"outlinewidth\":0,\"ticks\":\"\"},\"type\":\"mesh3d\"}],\"parcoords\":[{\"line\":{\"colorbar\":{\"outlinewidth\":0,\"ticks\":\"\"}},\"type\":\"parcoords\"}],\"pie\":[{\"automargin\":true,\"type\":\"pie\"}],\"scatter3d\":[{\"line\":{\"colorbar\":{\"outlinewidth\":0,\"ticks\":\"\"}},\"marker\":{\"colorbar\":{\"outlinewidth\":0,\"ticks\":\"\"}},\"type\":\"scatter3d\"}],\"scattercarpet\":[{\"marker\":{\"colorbar\":{\"outlinewidth\":0,\"ticks\":\"\"}},\"type\":\"scattercarpet\"}],\"scattergeo\":[{\"marker\":{\"colorbar\":{\"outlinewidth\":0,\"ticks\":\"\"}},\"type\":\"scattergeo\"}],\"scattergl\":[{\"marker\":{\"colorbar\":{\"outlinewidth\":0,\"ticks\":\"\"}},\"type\":\"scattergl\"}],\"scattermapbox\":[{\"marker\":{\"colorbar\":{\"outlinewidth\":0,\"ticks\":\"\"}},\"type\":\"scattermapbox\"}],\"scatterpolargl\":[{\"marker\":{\"colorbar\":{\"outlinewidth\":0,\"ticks\":\"\"}},\"type\":\"scatterpolargl\"}],\"scatterpolar\":[{\"marker\":{\"colorbar\":{\"outlinewidth\":0,\"ticks\":\"\"}},\"type\":\"scatterpolar\"}],\"scatter\":[{\"fillpattern\":{\"fillmode\":\"overlay\",\"size\":10,\"solidity\":0.2},\"type\":\"scatter\"}],\"scatterternary\":[{\"marker\":{\"colorbar\":{\"outlinewidth\":0,\"ticks\":\"\"}},\"type\":\"scatterternary\"}],\"surface\":[{\"colorbar\":{\"outlinewidth\":0,\"ticks\":\"\"},\"colorscale\":[[0.0,\"#0d0887\"],[0.1111111111111111,\"#46039f\"],[0.2222222222222222,\"#7201a8\"],[0.3333333333333333,\"#9c179e\"],[0.4444444444444444,\"#bd3786\"],[0.5555555555555556,\"#d8576b\"],[0.6666666666666666,\"#ed7953\"],[0.7777777777777778,\"#fb9f3a\"],[0.8888888888888888,\"#fdca26\"],[1.0,\"#f0f921\"]],\"type\":\"surface\"}],\"table\":[{\"cells\":{\"fill\":{\"color\":\"#EBF0F8\"},\"line\":{\"color\":\"white\"}},\"header\":{\"fill\":{\"color\":\"#C8D4E3\"},\"line\":{\"color\":\"white\"}},\"type\":\"table\"}]},\"layout\":{\"annotationdefaults\":{\"arrowcolor\":\"#2a3f5f\",\"arrowhead\":0,\"arrowwidth\":1},\"autotypenumbers\":\"strict\",\"coloraxis\":{\"colorbar\":{\"outlinewidth\":0,\"ticks\":\"\"}},\"colorscale\":{\"diverging\":[[0,\"#8e0152\"],[0.1,\"#c51b7d\"],[0.2,\"#de77ae\"],[0.3,\"#f1b6da\"],[0.4,\"#fde0ef\"],[0.5,\"#f7f7f7\"],[0.6,\"#e6f5d0\"],[0.7,\"#b8e186\"],[0.8,\"#7fbc41\"],[0.9,\"#4d9221\"],[1,\"#276419\"]],\"sequential\":[[0.0,\"#0d0887\"],[0.1111111111111111,\"#46039f\"],[0.2222222222222222,\"#7201a8\"],[0.3333333333333333,\"#9c179e\"],[0.4444444444444444,\"#bd3786\"],[0.5555555555555556,\"#d8576b\"],[0.6666666666666666,\"#ed7953\"],[0.7777777777777778,\"#fb9f3a\"],[0.8888888888888888,\"#fdca26\"],[1.0,\"#f0f921\"]],\"sequentialminus\":[[0.0,\"#0d0887\"],[0.1111111111111111,\"#46039f\"],[0.2222222222222222,\"#7201a8\"],[0.3333333333333333,\"#9c179e\"],[0.4444444444444444,\"#bd3786\"],[0.5555555555555556,\"#d8576b\"],[0.6666666666666666,\"#ed7953\"],[0.7777777777777778,\"#fb9f3a\"],[0.8888888888888888,\"#fdca26\"],[1.0,\"#f0f921\"]]},\"colorway\":[\"#636efa\",\"#EF553B\",\"#00cc96\",\"#ab63fa\",\"#FFA15A\",\"#19d3f3\",\"#FF6692\",\"#B6E880\",\"#FF97FF\",\"#FECB52\"],\"font\":{\"color\":\"#2a3f5f\"},\"geo\":{\"bgcolor\":\"white\",\"lakecolor\":\"white\",\"landcolor\":\"#E5ECF6\",\"showlakes\":true,\"showland\":true,\"subunitcolor\":\"white\"},\"hoverlabel\":{\"align\":\"left\"},\"hovermode\":\"closest\",\"mapbox\":{\"style\":\"light\"},\"paper_bgcolor\":\"white\",\"plot_bgcolor\":\"#E5ECF6\",\"polar\":{\"angularaxis\":{\"gridcolor\":\"white\",\"linecolor\":\"white\",\"ticks\":\"\"},\"bgcolor\":\"#E5ECF6\",\"radialaxis\":{\"gridcolor\":\"white\",\"linecolor\":\"white\",\"ticks\":\"\"}},\"scene\":{\"xaxis\":{\"backgroundcolor\":\"#E5ECF6\",\"gridcolor\":\"white\",\"gridwidth\":2,\"linecolor\":\"white\",\"showbackground\":true,\"ticks\":\"\",\"zerolinecolor\":\"white\"},\"yaxis\":{\"backgroundcolor\":\"#E5ECF6\",\"gridcolor\":\"white\",\"gridwidth\":2,\"linecolor\":\"white\",\"showbackground\":true,\"ticks\":\"\",\"zerolinecolor\":\"white\"},\"zaxis\":{\"backgroundcolor\":\"#E5ECF6\",\"gridcolor\":\"white\",\"gridwidth\":2,\"linecolor\":\"white\",\"showbackground\":true,\"ticks\":\"\",\"zerolinecolor\":\"white\"}},\"shapedefaults\":{\"line\":{\"color\":\"#2a3f5f\"}},\"ternary\":{\"aaxis\":{\"gridcolor\":\"white\",\"linecolor\":\"white\",\"ticks\":\"\"},\"baxis\":{\"gridcolor\":\"white\",\"linecolor\":\"white\",\"ticks\":\"\"},\"bgcolor\":\"#E5ECF6\",\"caxis\":{\"gridcolor\":\"white\",\"linecolor\":\"white\",\"ticks\":\"\"}},\"title\":{\"x\":0.05},\"xaxis\":{\"automargin\":true,\"gridcolor\":\"white\",\"linecolor\":\"white\",\"ticks\":\"\",\"title\":{\"standoff\":15},\"zerolinecolor\":\"white\",\"zerolinewidth\":2},\"yaxis\":{\"automargin\":true,\"gridcolor\":\"white\",\"linecolor\":\"white\",\"ticks\":\"\",\"title\":{\"standoff\":15},\"zerolinecolor\":\"white\",\"zerolinewidth\":2}}},\"title\":{\"text\":\"Global Happiness 2019\"}},                        {\"responsive\": true}                    ).then(function(){\n",
       "                            \n",
       "var gd = document.getElementById('0154f6fe-fdbe-4491-a12e-b03fec5f569e');\n",
       "var x = new MutationObserver(function (mutations, observer) {{\n",
       "        var display = window.getComputedStyle(gd).display;\n",
       "        if (!display || display === 'none') {{\n",
       "            console.log([gd, 'removed!']);\n",
       "            Plotly.purge(gd);\n",
       "            observer.disconnect();\n",
       "        }}\n",
       "}});\n",
       "\n",
       "// Listen for the removal of the full notebook cells\n",
       "var notebookContainer = gd.closest('#notebook-container');\n",
       "if (notebookContainer) {{\n",
       "    x.observe(notebookContainer, {childList: true});\n",
       "}}\n",
       "\n",
       "// Listen for the clearing of the current output cell\n",
       "var outputEl = gd.closest('.output');\n",
       "if (outputEl) {{\n",
       "    x.observe(outputEl, {childList: true});\n",
       "}}\n",
       "\n",
       "                        })                };                });            </script>        </div>"
      ]
     },
     "metadata": {},
     "output_type": "display_data"
    }
   ],
   "source": [
    "import plotly.graph_objs as go \n",
    "\n",
    "from plotly.offline import download_plotlyjs,init_notebook_mode,plot, iplot\n",
    "\n",
    "init_notebook_mode(connected=True)\n",
    "\n",
    "data = dict(type = 'choropleth',locations = df['Country (region)'], locationmode = 'country names',z = df['Ladder'],\n",
    "           text = df['Country (region)'],colorbar= {'title':\"Happiness\"})\n",
    "layout = dict(title = 'Global Happiness 2019',geo = dict(showframe = False))\n",
    "\n",
    "choromap3 = go.Figure(data = [data],layout =layout)\n",
    "    \n",
    "iplot(choromap3);\n"
   ]
  },
  {
   "cell_type": "code",
   "execution_count": 35,
   "id": "d9f57a8c",
   "metadata": {},
   "outputs": [
    {
     "name": "stdout",
     "output_type": "stream",
     "text": [
      "The minimal life expectancy is :  1.0\n",
      "The maximum life expectancy is:  150.0\n"
     ]
    }
   ],
   "source": [
    "print(\"The minimal life expectancy is : \" ,df['Healthy life\\nexpectancy'].min())\n",
    "\n",
    "print(\"The maximum life expectancy is: \", df['Healthy life\\nexpectancy'].max())"
   ]
  },
  {
   "cell_type": "code",
   "execution_count": 36,
   "id": "87a82b0c",
   "metadata": {},
   "outputs": [
    {
     "data": {
      "text/plain": [
       "Index(['Country (region)', 'Ladder', 'SD of Ladder', 'Positive affect',\n",
       "       'Negative affect', 'Social support', 'Freedom', 'Corruption',\n",
       "       'Generosity', 'Log of GDP\\nper capita', 'Healthy life\\nexpectancy'],\n",
       "      dtype='object')"
      ]
     },
     "execution_count": 36,
     "metadata": {},
     "output_type": "execute_result"
    }
   ],
   "source": [
    "df.columns"
   ]
  },
  {
   "cell_type": "markdown",
   "id": "fac949ad",
   "metadata": {},
   "source": [
    "# We can determine how Ladder affected by different  factors "
   ]
  },
  {
   "cell_type": "code",
   "execution_count": 38,
   "id": "4f9a4b8f",
   "metadata": {},
   "outputs": [
    {
     "data": {
      "image/png": "[encoded data removed]",
      "text/plain": [
       "<Figure size 1152x864 with 8 Axes>"
      ]
     },
     "metadata": {
      "needs_background": "light"
     },
     "output_type": "display_data"
    }
   ],
   "source": [
    "plt.figure(figsize=(16,12))\n",
    "\n",
    "plt.subplot(4,2,1)\n",
    "\n",
    "sns.regplot(x ='Ladder',y='Positive affect',data = df);\n",
    "\n",
    "plt.subplot(4,2,2)\n",
    "sns.regplot(x='Ladder',y='Negative affect',data=df,color='black');\n",
    "\n",
    "plt.subplot(4,2,3)\n",
    "sns.regplot(x='Ladder',y='Social support',data=df,color='orange');\n",
    "\n",
    "plt.subplot(4,2,4)\n",
    "sns.regplot(x='Ladder',y='Freedom',data=df,color='blue');\n",
    "\n",
    "plt.subplot(4,2,5)\n",
    "sns.regplot(x='Ladder',y='Corruption',data=df,color='red');\n",
    "\n",
    "plt.subplot(4,2,6)\n",
    "sns.regplot(x='Ladder',y='Generosity',data=df);\n",
    "\n",
    "\n",
    "\n",
    "plt.subplot(4,2,7)\n",
    "sns.regplot(x='Ladder',y='Log of GDP\\nper capita',data=df);\n",
    "\n",
    "\n",
    "plt.subplot(4,2,8)\n",
    "sns.regplot(x='Ladder',y='Healthy life\\nexpectancy',data=df,color='grey');\n"
   ]
  },
  {
   "cell_type": "code",
   "execution_count": 39,
   "id": "dedf1ae9",
   "metadata": {},
   "outputs": [],
   "source": [
    "# looking at the eight regression plots , there is a lot of correlaction between latter and all these other factors "
   ]
  },
  {
   "cell_type": "code",
   "execution_count": null,
   "id": "c75672ce",
   "metadata": {},
   "outputs": [],
   "source": []
  }
 ],
 "metadata": {
  "kernelspec": {
   "display_name": "Python 3",
   "language": "python",
   "name": "python3"
  },
  "language_info": {
   "codemirror_mode": {
    "name": "ipython",
    "version": 3
   },
   "file_extension": ".py",
   "mimetype": "text/x-python",
   "name": "python",
   "nbconvert_exporter": "python",
   "pygments_lexer": "ipython3",
   "version": "3.8.8"
  }
 },
 "nbformat": 4,
 "nbformat_minor": 5
}
